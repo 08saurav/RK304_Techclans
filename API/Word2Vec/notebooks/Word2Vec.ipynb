{
  "nbformat": 4,
  "nbformat_minor": 0,
  "metadata": {
    "colab": {
      "name": "Word2Vec(parth)",
      "provenance": [],
      "collapsed_sections": []
    },
    "kernelspec": {
      "name": "python3",
      "display_name": "Python 3"
    },
    "accelerator": "GPU"
  },
  "cells": [
    {
      "cell_type": "code",
      "metadata": {
        "id": "hoxA4_KmU4UI",
        "colab_type": "code",
        "outputId": "1092e828-30c0-4270-cef2-f1b0fbc51153",
        "colab": {
          "base_uri": "https://localhost:8080/",
          "height": 122
        }
      },
      "source": [
        "from google.colab import drive\n",
        "drive.mount('/content/drive')\n",
        "%cp drive/My\\ Drive/preprocessed_data.csv ."
      ],
      "execution_count": 0,
      "outputs": [
        {
          "output_type": "stream",
          "text": [
            "Go to this URL in a browser: https://accounts.google.com/o/oauth2/auth?client_id=947318989803-6bn6qk8qdgf4n4g3pfee6491hc0brc4i.apps.googleusercontent.com&redirect_uri=urn%3aietf%3awg%3aoauth%3a2.0%3aoob&response_type=code&scope=email%20https%3a%2f%2fwww.googleapis.com%2fauth%2fdocs.test%20https%3a%2f%2fwww.googleapis.com%2fauth%2fdrive%20https%3a%2f%2fwww.googleapis.com%2fauth%2fdrive.photos.readonly%20https%3a%2f%2fwww.googleapis.com%2fauth%2fpeopleapi.readonly\n",
            "\n",
            "Enter your authorization code:\n",
            "··········\n",
            "Mounted at /content/drive\n"
          ],
          "name": "stdout"
        }
      ]
    },
    {
      "cell_type": "code",
      "metadata": {
        "id": "_Mwr94Wp_la2",
        "colab_type": "code",
        "outputId": "eca633d6-0a6a-4e28-ea0b-f26d8a14948d",
        "colab": {
          "base_uri": "https://localhost:8080/",
          "height": 51
        }
      },
      "source": [
        "import numpy as np\n",
        "import pickle\n",
        "import tensorflow as tf\n",
        "import pandas as pd\n",
        "import html\n",
        "import re\n",
        "import string\n",
        "import nltk\n",
        "nltk.download('punkt')\n",
        "from nltk.corpus import stopwords\n",
        "from gensim.summarization import summarize\n",
        "from keras.preprocessing.text import Tokenizer\n",
        "from keras.preprocessing.text import one_hot\n",
        "from keras.preprocessing.sequence import pad_sequences\n",
        "from nltk.corpus import stopwords\n",
        "from gensim.summarization import summarize"
      ],
      "execution_count": 0,
      "outputs": [
        {
          "output_type": "stream",
          "text": [
            "[nltk_data] Downloading package punkt to /root/nltk_data...\n",
            "[nltk_data]   Package punkt is already up-to-date!\n"
          ],
          "name": "stdout"
        }
      ]
    },
    {
      "cell_type": "code",
      "metadata": {
        "id": "_-UAdFUjANWF",
        "colab_type": "code",
        "outputId": "298d1ff4-834f-41fb-bbce-ba5430e8eaac",
        "colab": {
          "base_uri": "https://localhost:8080/",
          "height": 204
        }
      },
      "source": [
        "train_dataset = pd.read_csv('preprocessed_data.csv')\n",
        "train_dataset.drop(['Unnamed: 0','Body ID'],axis=1,inplace=True)\n",
        "train_dataset.head()"
      ],
      "execution_count": 0,
      "outputs": [
        {
          "output_type": "execute_result",
          "data": {
            "text/html": [
              "<div>\n",
              "<style scoped>\n",
              "    .dataframe tbody tr th:only-of-type {\n",
              "        vertical-align: middle;\n",
              "    }\n",
              "\n",
              "    .dataframe tbody tr th {\n",
              "        vertical-align: top;\n",
              "    }\n",
              "\n",
              "    .dataframe thead th {\n",
              "        text-align: right;\n",
              "    }\n",
              "</style>\n",
              "<table border=\"1\" class=\"dataframe\">\n",
              "  <thead>\n",
              "    <tr style=\"text-align: right;\">\n",
              "      <th></th>\n",
              "      <th>Headline</th>\n",
              "      <th>Stance</th>\n",
              "      <th>articleBody</th>\n",
              "    </tr>\n",
              "  </thead>\n",
              "  <tbody>\n",
              "    <tr>\n",
              "      <th>0</th>\n",
              "      <td>soldier shot near canadian parliament building</td>\n",
              "      <td>unrelated</td>\n",
              "      <td>a small meteorite crashed into a wooded area i...</td>\n",
              "    </tr>\n",
              "    <tr>\n",
              "      <th>1</th>\n",
              "      <td>caught a catfish record in po : &lt;number&gt; kg an...</td>\n",
              "      <td>unrelated</td>\n",
              "      <td>a small meteorite crashed into a wooded area i...</td>\n",
              "    </tr>\n",
              "    <tr>\n",
              "      <th>2</th>\n",
              "      <td>enormous &lt;number&gt; - stone catfish caught with ...</td>\n",
              "      <td>unrelated</td>\n",
              "      <td>a small meteorite crashed into a wooded area i...</td>\n",
              "    </tr>\n",
              "    <tr>\n",
              "      <th>3</th>\n",
              "      <td>soldier shot at war memorial in canada</td>\n",
              "      <td>unrelated</td>\n",
              "      <td>a small meteorite crashed into a wooded area i...</td>\n",
              "    </tr>\n",
              "    <tr>\n",
              "      <th>4</th>\n",
              "      <td>a soldier has been shot at canada ’ s war memo...</td>\n",
              "      <td>unrelated</td>\n",
              "      <td>a small meteorite crashed into a wooded area i...</td>\n",
              "    </tr>\n",
              "  </tbody>\n",
              "</table>\n",
              "</div>"
            ],
            "text/plain": [
              "                                            Headline  ...                                        articleBody\n",
              "0     soldier shot near canadian parliament building  ...  a small meteorite crashed into a wooded area i...\n",
              "1  caught a catfish record in po : <number> kg an...  ...  a small meteorite crashed into a wooded area i...\n",
              "2  enormous <number> - stone catfish caught with ...  ...  a small meteorite crashed into a wooded area i...\n",
              "3             soldier shot at war memorial in canada  ...  a small meteorite crashed into a wooded area i...\n",
              "4  a soldier has been shot at canada ’ s war memo...  ...  a small meteorite crashed into a wooded area i...\n",
              "\n",
              "[5 rows x 3 columns]"
            ]
          },
          "metadata": {
            "tags": []
          },
          "execution_count": 5
        }
      ]
    },
    {
      "cell_type": "code",
      "metadata": {
        "id": "lM_jYQO_Zw5p",
        "colab_type": "code",
        "colab": {}
      },
      "source": [
        "df=train_dataset.copy()"
      ],
      "execution_count": 0,
      "outputs": []
    },
    {
      "cell_type": "code",
      "metadata": {
        "id": "8GWVIYrhw0EZ",
        "colab_type": "code",
        "outputId": "db9e769f-8725-4b80-91e0-3985c11f53b6",
        "colab": {
          "base_uri": "https://localhost:8080/",
          "height": 34
        }
      },
      "source": [
        "print(df['Headline'][0])"
      ],
      "execution_count": 0,
      "outputs": [
        {
          "output_type": "stream",
          "text": [
            "soldier shot near canadian parliament building\n"
          ],
          "name": "stdout"
        }
      ]
    },
    {
      "cell_type": "code",
      "metadata": {
        "id": "RfPFwHP-w30C",
        "colab_type": "code",
        "outputId": "b80de45c-9498-4c8f-effd-903142ee2261",
        "colab": {
          "base_uri": "https://localhost:8080/",
          "height": 54
        }
      },
      "source": [
        "print(df['articleBody'][0])"
      ],
      "execution_count": 0,
      "outputs": [
        {
          "output_type": "stream",
          "text": [
            "a small meteorite crashed into a wooded area in nicaragua ' s capital of managua overnight , the government said sunday . residents reported hearing a mysterious boom that left a <number> - foot deep crater near the city ' s airport , the associated press reports . government spokeswoman rosario murillo said a committee formed by the government to study the event determined it was a \" relatively small \" meteorite that \" appears to have come off an asteroid that was passing close to earth . \" house - sized asteroid <number> rc , which measured <number> feet in diameter , skimmed the earth this weekend , abc news reports . murillo said nicaragua will ask international experts to help local scientists in understanding what happened . the crater left by the meteorite had a radius of <number> feet and a depth of <number> feet , said humberto saballos , a volcanologist with the nicaraguan institute of territorial studies who was on the committee . he said it is still not clear if the meteorite disintegrated or was buried . humberto garcia , of the astronomy center at the national autonomous university of nicaragua , said the meteorite could be related to an asteroid that was forecast to pass by the planet saturday night . \" we have to study it more because it could be ice or rock , \" he said . wilfried strauch , an adviser to the institute of territorial studies , said it was \" very strange that no one reported a streak of light . we have to ask if anyone has a photo or something . \" local residents reported hearing a loud boom saturday night , but said they did not see anything strange in the sky . \" i was sitting on my porch and i saw nothing , then all of a sudden i heard a large blast . we thought it was a bomb because we felt an expansive wave , \" jorge santamaria told the associated press . the site of the crater is near managua ' s international airport and an air force base . only journalists from state media were allowed to visit it .\n"
          ],
          "name": "stdout"
        }
      ]
    },
    {
      "cell_type": "code",
      "metadata": {
        "id": "qQfi_GYTZw2C",
        "colab_type": "code",
        "colab": {}
      },
      "source": [
        "def mark_category(stance):  \n",
        "    if(stance=='disagree'):    \n",
        "        return 0\n",
        "    if(stance=='agree'):\n",
        "        return 1\n",
        "    if(stance=='discuss'):\n",
        "        return 2\n",
        "    if(stance=='unrelated'):\n",
        "        return 3\n",
        "\n",
        "df['labels']=df['Stance'].apply(mark_category)\n",
        "df.drop(['Stance'],axis=1,inplace=True)"
      ],
      "execution_count": 0,
      "outputs": []
    },
    {
      "cell_type": "code",
      "metadata": {
        "id": "Qgyt4O3LZwT7",
        "colab_type": "code",
        "outputId": "e656ad05-02e5-4853-afbd-7d1f9f9c10be",
        "colab": {
          "base_uri": "https://localhost:8080/",
          "height": 102
        }
      },
      "source": [
        " df['labels'].value_counts()"
      ],
      "execution_count": 0,
      "outputs": [
        {
          "output_type": "execute_result",
          "data": {
            "text/plain": [
              "3    36545\n",
              "2     8909\n",
              "1     3678\n",
              "0      840\n",
              "Name: labels, dtype: int64"
            ]
          },
          "metadata": {
            "tags": []
          },
          "execution_count": 10
        }
      ]
    },
    {
      "cell_type": "code",
      "metadata": {
        "id": "d1TV9YuCByr6",
        "colab_type": "code",
        "colab": {}
      },
      "source": [
        "\n",
        "from nltk.stem import WordNetLemmatizer \n",
        "tokenizer = nltk.data.load('tokenizers/punkt/english.pickle')\n",
        "\n",
        "def create_total_text(df):\n",
        "    sentences = []\n",
        "    for idx, row in df.iterrows():\n",
        "        sents_head=tokenizer.tokenize(row[0].strip())\n",
        "        sents_body=tokenizer.tokenize(row[1].strip())\n",
        "        for ele in sents_head:\n",
        "            sentences.append(ele.split())\n",
        "        for ele in sents_body:\n",
        "            sentences.append(ele.split())\n",
        "        \n",
        "    return sentences"
      ],
      "execution_count": 0,
      "outputs": []
    },
    {
      "cell_type": "code",
      "metadata": {
        "id": "4y_QYz25Q6bv",
        "colab_type": "code",
        "outputId": "a68b6d74-39fc-4b95-de46-c0760d9abdad",
        "colab": {
          "base_uri": "https://localhost:8080/",
          "height": 34
        }
      },
      "source": [
        "sentences = create_total_text(df)\n",
        "print(sentences[0])\n",
        "embed_dim=300"
      ],
      "execution_count": 0,
      "outputs": [
        {
          "output_type": "stream",
          "text": [
            "['soldier', 'shot', 'near', 'canadian', 'parliament', 'building']\n"
          ],
          "name": "stdout"
        }
      ]
    },
    {
      "cell_type": "code",
      "metadata": {
        "id": "m7aB9i9UWZHw",
        "colab_type": "code",
        "outputId": "dee9301f-90b7-4cd4-d7f4-c06f76240b27",
        "colab": {
          "base_uri": "https://localhost:8080/",
          "height": 71
        }
      },
      "source": [
        "import gensim\n",
        "w2v_model=gensim.models.Word2Vec(sentences=sentences,size=embed_dim,window=5,min_count=1)\n",
        "w2v_model.train(sentences,epochs=50,total_examples=len(sentences))                  # embedding of a particular word.\n",
        "w2v_model.init_sims(replace=True)\n",
        "w2v_model.save(\"W2V_epochs_100.model\")"
      ],
      "execution_count": 0,
      "outputs": [
        {
          "output_type": "stream",
          "text": [
            "/usr/local/lib/python3.6/dist-packages/smart_open/smart_open_lib.py:253: UserWarning: This function is deprecated, use smart_open.open instead. See the migration notes for details: https://github.com/RaRe-Technologies/smart_open/blob/master/README.rst#migrating-to-the-new-open-function\n",
            "  'See the migration notes for details: %s' % _MIGRATION_NOTES_URL\n"
          ],
          "name": "stderr"
        }
      ]
    },
    {
      "cell_type": "code",
      "metadata": {
        "id": "A-XPUf6PXbUf",
        "colab_type": "code",
        "outputId": "a31701db-4d10-4e25-fcef-36c732f47e33",
        "colab": {
          "base_uri": "https://localhost:8080/",
          "height": 34
        }
      },
      "source": [
        "wevocab=w2v_model.wv.vocab\n",
        "print(type(vocab))\n",
        "# print(\"The total number of words are : \",len(vocab))"
      ],
      "execution_count": 0,
      "outputs": [
        {
          "output_type": "stream",
          "text": [
            "<class 'dict'>\n"
          ],
          "name": "stdout"
        }
      ]
    },
    {
      "cell_type": "code",
      "metadata": {
        "id": "gsfNhdUxXbN0",
        "colab_type": "code",
        "outputId": "17e15991-1885-43b2-ba30-ec12b28c348d",
        "colab": {
          "base_uri": "https://localhost:8080/",
          "height": 51
        }
      },
      "source": [
        "print(\"The no of words :\",len(vocab))\n",
        "# print(vocab)\n",
        "vocab=list(vocab.keys())\n",
        "word_vec_dict={}\n",
        "for word in vocab:\n",
        "    word_vec_dict[word]=w2v_model.wv.get_vector(word)\n",
        "print(\"The no of key-value pairs : \",len(word_vec_dict))"
      ],
      "execution_count": 0,
      "outputs": [
        {
          "output_type": "stream",
          "text": [
            "The no of words : 22495\n",
            "The no of key-value pairs :  22495\n"
          ],
          "name": "stdout"
        }
      ]
    },
    {
      "cell_type": "code",
      "metadata": {
        "id": "rPQ6o9iPXbDd",
        "colab_type": "code",
        "outputId": "f8dcbbab-ebf4-4796-8dc2-cf86262924a4",
        "colab": {
          "base_uri": "https://localhost:8080/",
          "height": 34
        }
      },
      "source": [
        "\n",
        "maxi=-1\n",
        "for i,row in train_dataset.iterrows():\n",
        "    tokens=row[0].strip().split()\n",
        "    if(len(tokens)>maxi):\n",
        "        maxi=len(tokens)\n",
        "    tokens=row[1].strip().split()\n",
        "    if(len(tokens)>maxi):\n",
        "        maxi=len(tokens)\n",
        "print(maxi)"
      ],
      "execution_count": 0,
      "outputs": [
        {
          "output_type": "stream",
          "text": [
            "45\n"
          ],
          "name": "stdout"
        }
      ]
    },
    {
      "cell_type": "code",
      "metadata": {
        "id": "MxB-Uh2LZBMO",
        "colab_type": "code",
        "colab": {}
      },
      "source": [
        "t = Tokenizer()\n",
        "t.fit_on_texts(sentences)\n",
        "encd_head = t.texts_to_sequences(df['Headline'])\n",
        "encd_body = t.texts_to_sequences(df['articleBody'])\n",
        "max_head=30  # max length of a review\n",
        "max_body=100\n",
        "vocab_size = len(t.word_index) + 1  # total no of words\n",
        "embed_dim=300 # embedding dimension as choosen in word2vec constructor\n",
        "# now padding to have a amximum length of 1565\n",
        "pad_head= pad_sequences(encd_head, maxlen=max_head, padding='post')\n",
        "pad_body= pad_sequences(encd_body, maxlen=max_body, padding='post')\n",
        "pad_head.shape\n",
        "pad_body.shape\n",
        "# saving\n",
        "with open('tokenizer.pickle', 'wb') as handle:\n",
        "    pickle.dump(t, handle, protocol=pickle.HIGHEST_PROTOCOL)"
      ],
      "execution_count": 0,
      "outputs": []
    },
    {
      "cell_type": "code",
      "metadata": {
        "id": "EQmjszRKHfgZ",
        "colab_type": "code",
        "outputId": "5407262b-1cfc-45b9-cff6-6446344f0ef3",
        "colab": {
          "base_uri": "https://localhost:8080/",
          "height": 34
        }
      },
      "source": [
        "from keras.utils.np_utils import to_categorical\n",
        "y = df['labels'].tolist()\n",
        "y_cat = np.zeros((len(y),4))\n",
        "y_cat = to_categorical(y, num_classes=4)\n",
        "y_cat.shape"
      ],
      "execution_count": 0,
      "outputs": [
        {
          "output_type": "execute_result",
          "data": {
            "text/plain": [
              "(49972, 4)"
            ]
          },
          "metadata": {
            "tags": []
          },
          "execution_count": 15
        }
      ]
    },
    {
      "cell_type": "code",
      "metadata": {
        "id": "UHIqCiKXZBEY",
        "colab_type": "code",
        "outputId": "e2d012b5-d8cc-41ec-9be9-aa2447282ccc",
        "colab": {
          "base_uri": "https://localhost:8080/",
          "height": 34
        }
      },
      "source": [
        "embed_matrix = np.zeros((vocab_size, embed_dim))\n",
        "for word,i in t.word_index.items():\n",
        "    # print(i)\n",
        "    embed_vector=word_vec_dict.get(word)\n",
        "    if embed_vector is not None:  # word is in the vocabulary learned by the w2v model\n",
        "        embed_matrix[i] = np.array(embed_vector)\n",
        "embed_matrix=np.array(embed_matrix)\n",
        "print(embed_matrix.shape)"
      ],
      "execution_count": 0,
      "outputs": [
        {
          "output_type": "stream",
          "text": [
            "(22496, 300)\n"
          ],
          "name": "stdout"
        }
      ]
    },
    {
      "cell_type": "code",
      "metadata": {
        "id": "5nbhsxoaIAoZ",
        "colab_type": "code",
        "colab": {}
      },
      "source": [
        "train_text, train_body, y_train = pad_head, pad_body, y_cat\n",
        "# print(train_text.shape)\n",
        "# unq=set()\n",
        "# for i in range(len(train_text)):\n",
        "#     train_body[i]=np.array(train_body[i])\n",
        "    # train_text[i]=np.array(train_text[i])\n",
        "    # y_train[i]=np.array(y_train[i])\n",
        "    # unq.add(train_body[i].shape)\n",
        "    # print(train_text[i].shape)\n",
        "# train_body=np.array(train_body)\n",
        "# train_text=np.array(train_text)\n",
        "# y_train=np.array(y_train)\n",
        "# print(train_body.shape)\n",
        "\n",
        "# print(train_body[0].shape)\n",
        "# print(train_body[1].shape)\n",
        "# print(unq)  \n",
        "# w2v_model.wv.get_vector()"
      ],
      "execution_count": 0,
      "outputs": []
    },
    {
      "cell_type": "code",
      "metadata": {
        "id": "7JHhtXCpIYo5",
        "colab_type": "code",
        "outputId": "41acd15f-fafb-4141-eda1-aae11a5ba0c6",
        "colab": {
          "base_uri": "https://localhost:8080/",
          "height": 51
        }
      },
      "source": [
        "# sanity check\n",
        "# print(len(test_text[0]))\n",
        "print(train_body.shape)\n",
        "print(train_text.shape)\n",
        "\n",
        "# print(np.array(train_text).shape)\n",
        "\n",
        "# y_train=tf.convert_to_tensor(y_train, dtype=tf.float32)\n",
        "# train_text=tf.convert_to_tensor(train_text, dtype=tf.float32)\n",
        "# train_body=tf.convert_to_tensor(train_body, dtype=tf.float32)\n",
        "\n",
        "\n",
        "# train_text=np.asarray(train_text)   \n",
        "# train_body=np.asarray(train_body)    \n",
        "# y_train=np.asarray(y_train)           \n",
        "# print(train_text.shape)\n",
        "# print(train_body.shape)\n",
        "# print(y_train.shape)"
      ],
      "execution_count": 0,
      "outputs": [
        {
          "output_type": "stream",
          "text": [
            "(49972, 100)\n",
            "(49972, 30)\n"
          ],
          "name": "stdout"
        }
      ]
    },
    {
      "cell_type": "code",
      "metadata": {
        "id": "wOumYItPans0",
        "colab_type": "code",
        "colab": {}
      },
      "source": [
        "# print(len(train_text[0]))\n",
        "# print(len(train_body[0]))\n",
        "# print(len(y_train[0]))\n",
        "# print(train_text.shape)"
      ],
      "execution_count": 0,
      "outputs": []
    },
    {
      "cell_type": "code",
      "metadata": {
        "id": "7UHjw7nyZA_R",
        "colab_type": "code",
        "outputId": "01852c1f-19c0-402c-bb15-729ef67fc89a",
        "colab": {
          "base_uri": "https://localhost:8080/",
          "height": 34
        }
      },
      "source": [
        "\n",
        "# Keras Import Statements\n",
        "# import tensorflow.compat.v1 as tensorflow\n",
        "# tensorflow.disable_v2_behavior()\n",
        "from tensorflow.python.keras.preprocessing.text import Tokenizer\n",
        "from tensorflow.python.keras.preprocessing.text import one_hot\n",
        "from tensorflow.python.keras.preprocessing.sequence import pad_sequences\n",
        "from tensorflow.python.keras.models import Sequential\n",
        "from tensorflow.python.keras.layers import Dense\n",
        "from tensorflow.python.keras.layers import Flatten\n",
        "from tensorflow.python.keras.layers.embeddings import Embedding\n",
        "from tensorflow.python.keras.models import Sequential, Model\n",
        "from tensorflow.python.keras.layers import Dense, Dropout, Activation, Flatten, Embedding, Input, Lambda\n",
        "from tensorflow.python.keras.layers.wrappers import Bidirectional\n",
        "from tensorflow.python.keras.wrappers.scikit_learn import KerasRegressor\n",
        "from tensorflow.python.keras.optimizers import SGD, Adagrad\n",
        "from tensorflow.python.keras import layers\n",
        "from tensorflow.python.keras.layers.pooling import MaxPooling1D, GlobalMaxPooling1D, AveragePooling1D\n",
        "from tensorflow.python.keras.layers.normalization import BatchNormalization\n",
        "from tensorflow.python.keras.layers.recurrent import LSTM, GRU\n",
        "from tensorflow.python.keras.layers import concatenate,dot\n",
        "from tensorflow.python.keras.preprocessing import sequence\n",
        "import tensorflow.python.keras.backend as K\n",
        "from IPython.display import SVG\n",
        "from tensorflow.python.keras.utils.vis_utils import model_to_dot"
      ],
      "execution_count": 0,
      "outputs": [
        {
          "output_type": "stream",
          "text": [
            "Using TensorFlow backend.\n"
          ],
          "name": "stderr"
        }
      ]
    },
    {
      "cell_type": "code",
      "metadata": {
        "id": "h5jwhX7LZA8o",
        "colab_type": "code",
        "outputId": "b1c7fc96-acd5-49a8-c516-d1358f6ec111",
        "colab": {
          "base_uri": "https://localhost:8080/",
          "height": 1000
        }
      },
      "source": [
        "print(max_body,max_head)\n",
        "print(embed_dim)\n",
        "print(vocab_size)\n",
        "print(embed_matrix.shape)\n",
        "head_input = Input(shape=(max_head,), name='head_input')\n",
        "body_input = Input(shape=(max_body,), name='body_input')\n",
        "shared_embed = Embedding(vocab_size,embed_dim,weights=[embed_matrix],trainable=False)  #embed_dim instead of 10\n",
        "head_embed = shared_embed(head_input)\n",
        "body_embed = shared_embed(body_input)\n",
        "\n",
        "conv_11 = layers.Conv1D(64, 5, activation='relu', name='conv11')\n",
        "conv_12 = layers.Conv1D(64, 5, activation='relu', name='conv12')\n",
        "conv_21 = layers.Conv1D(32, 3, activation='relu', name='conv21')\n",
        "conv_22 = layers.Conv1D(32, 3, activation='relu', name='conv22')\n",
        "#pooling layers\n",
        "pool_3 = MaxPooling1D(pool_size=3, strides=2, name='pool3')\n",
        "pool_4 = MaxPooling1D(pool_size=3, strides=2, name='pool4')\n",
        "\n",
        "head_CNN = conv_11(head_embed)\n",
        "head_CNN = pool_3(head_CNN)\n",
        "head_CNN = conv_21(head_CNN)\n",
        "head_CNN = pool_4(head_CNN)\n",
        "head_CNN = Flatten()(head_CNN)\n",
        "\n",
        "body_CNN = conv_12(body_embed)\n",
        "body_CNN = pool_3(body_CNN)\n",
        "body_CNN = conv_22(body_CNN)\n",
        "body_CNN = pool_4(body_CNN)\n",
        "body_CNN = Flatten()(body_CNN)\n",
        "\n",
        "conc = concatenate([head_CNN,body_CNN])\n",
        "dense = Dense(100,activation='relu')(conc)\n",
        "dense = Dropout(0.3)(dense)\n",
        "dense = Dense(4,activation='softmax')(dense)\n",
        "model = Model(inputs=[head_input,body_input], outputs=dense)\n",
        "model.compile(optimizer='adam', loss='categorical_crossentropy',metrics=['acc'])\n",
        "print(model.summary())\n",
        "SVG(model_to_dot(model).create(prog='dot', format='svg'))"
      ],
      "execution_count": 0,
      "outputs": [
        {
          "output_type": "stream",
          "text": [
            "100 30\n",
            "300\n",
            "22495\n",
            "(22495, 300)\n",
            "Model: \"model_3\"\n",
            "__________________________________________________________________________________________________\n",
            "Layer (type)                    Output Shape         Param #     Connected to                     \n",
            "==================================================================================================\n",
            "head_input (InputLayer)         (None, 30)           0                                            \n",
            "__________________________________________________________________________________________________\n",
            "body_input (InputLayer)         (None, 100)          0                                            \n",
            "__________________________________________________________________________________________________\n",
            "embedding_5 (Embedding)         multiple             6748500     head_input[0][0]                 \n",
            "                                                                 body_input[0][0]                 \n",
            "__________________________________________________________________________________________________\n",
            "conv11 (Conv1D)                 (None, 26, 64)       96064       embedding_5[0][0]                \n",
            "__________________________________________________________________________________________________\n",
            "conv21 (Conv1D)                 (None, 98, 32)       28832       embedding_5[1][0]                \n",
            "__________________________________________________________________________________________________\n",
            "pool3 (MaxPooling1D)            multiple             0           conv11[0][0]                     \n",
            "                                                                 conv21[0][0]                     \n",
            "__________________________________________________________________________________________________\n",
            "bidirectional_5 (Bidirectional) [(None, 200), (None, 106400      pool3[1][0]                      \n",
            "__________________________________________________________________________________________________\n",
            "bidirectional_6 (Bidirectional) (None, 200)          132000      pool3[0][0]                      \n",
            "                                                                 bidirectional_5[0][1]            \n",
            "                                                                 bidirectional_5[0][2]            \n",
            "                                                                 bidirectional_5[0][3]            \n",
            "                                                                 bidirectional_5[0][4]            \n",
            "__________________________________________________________________________________________________\n",
            "dot_3 (Dot)                     (None, 1)            0           bidirectional_6[0][0]            \n",
            "                                                                 bidirectional_5[0][0]            \n",
            "__________________________________________________________________________________________________\n",
            "concatenate_3 (Concatenate)     (None, 401)          0           bidirectional_6[0][0]            \n",
            "                                                                 bidirectional_5[0][0]            \n",
            "                                                                 dot_3[0][0]                      \n",
            "__________________________________________________________________________________________________\n",
            "dense_5 (Dense)                 (None, 100)          40200       concatenate_3[0][0]              \n",
            "__________________________________________________________________________________________________\n",
            "dropout_3 (Dropout)             (None, 100)          0           dense_5[0][0]                    \n",
            "__________________________________________________________________________________________________\n",
            "dense_6 (Dense)                 (None, 4)            404         dropout_3[0][0]                  \n",
            "==================================================================================================\n",
            "Total params: 7,152,400\n",
            "Trainable params: 403,900\n",
            "Non-trainable params: 6,748,500\n",
            "__________________________________________________________________________________________________\n",
            "None\n"
          ],
          "name": "stdout"
        },
        {
          "output_type": "execute_result",
          "data": {
            "image/png": "[encoded data removed]",
            "text/plain": [
              "<IPython.core.display.Image object>"
            ]
          },
          "metadata": {
            "tags": []
          },
          "execution_count": 18
        }
      ]
    },
    {
      "cell_type": "markdown",
      "metadata": {
        "id": "_KWgZ78QsLXH",
        "colab_type": "text"
      },
      "source": [
        ""
      ]
    },
    {
      "cell_type": "code",
      "metadata": {
        "id": "Tlj0UQFYR3Ds",
        "colab_type": "code",
        "outputId": "0cca0637-584f-4120-f719-dce30117b2f6",
        "colab": {
          "base_uri": "https://localhost:8080/",
          "height": 1000
        }
      },
      "source": [
        "# train_text=np.array(train_text)\n",
        "# train_body=np.array(train_body)\n",
        "# tf.convert_to_tensor(arg, dtype=tf.float32)\n",
        "for i in range(5):\n",
        "    model.fit([train_text,train_body],y_train,epochs=30, batch_size=64,verbose = True)\n",
        "    # evaluate_answer(model,[test_text,test_body],y_test)\n",
        "model.save(\"fake.h5\")"
      ],
      "execution_count": 0,
      "outputs": [
        {
          "output_type": "stream",
          "text": [
            "Epoch 1/30\n",
            "781/781 [==============================] - 10s 13ms/step - loss: 0.0778 - acc: 0.9708\n",
            "Epoch 2/30\n",
            "781/781 [==============================] - 10s 13ms/step - loss: 0.0776 - acc: 0.9712\n",
            "Epoch 3/30\n",
            "781/781 [==============================] - 10s 13ms/step - loss: 0.0723 - acc: 0.9730\n",
            "Epoch 4/30\n",
            "781/781 [==============================] - 10s 13ms/step - loss: 0.0702 - acc: 0.9742\n",
            "Epoch 5/30\n",
            "781/781 [==============================] - 10s 13ms/step - loss: 0.0726 - acc: 0.9742\n",
            "Epoch 6/30\n",
            "781/781 [==============================] - 10s 13ms/step - loss: 0.0636 - acc: 0.9765\n",
            "Epoch 7/30\n",
            "781/781 [==============================] - 10s 13ms/step - loss: 0.0638 - acc: 0.9772\n",
            "Epoch 8/30\n",
            "781/781 [==============================] - 10s 13ms/step - loss: 0.0646 - acc: 0.9782\n",
            "Epoch 9/30\n",
            "781/781 [==============================] - 10s 13ms/step - loss: 0.0600 - acc: 0.9785\n",
            "Epoch 10/30\n",
            "781/781 [==============================] - 10s 13ms/step - loss: 0.0612 - acc: 0.9786\n",
            "Epoch 11/30\n",
            "781/781 [==============================] - 10s 13ms/step - loss: 0.0630 - acc: 0.9777\n",
            "Epoch 12/30\n",
            "781/781 [==============================] - 10s 13ms/step - loss: 0.0545 - acc: 0.9803\n",
            "Epoch 13/30\n",
            "781/781 [==============================] - 10s 13ms/step - loss: 0.0564 - acc: 0.9806\n",
            "Epoch 14/30\n",
            "781/781 [==============================] - 10s 13ms/step - loss: 0.0552 - acc: 0.9803\n",
            "Epoch 15/30\n",
            "781/781 [==============================] - 10s 13ms/step - loss: 0.0596 - acc: 0.9799\n",
            "Epoch 16/30\n",
            "781/781 [==============================] - 10s 13ms/step - loss: 0.0508 - acc: 0.9824\n",
            "Epoch 17/30\n",
            "781/781 [==============================] - 10s 13ms/step - loss: 0.0551 - acc: 0.9811\n",
            "Epoch 18/30\n",
            "781/781 [==============================] - 11s 14ms/step - loss: 0.0535 - acc: 0.9816\n",
            "Epoch 19/30\n",
            "781/781 [==============================] - 10s 13ms/step - loss: 0.0533 - acc: 0.9824\n",
            "Epoch 20/30\n",
            "781/781 [==============================] - 10s 13ms/step - loss: 0.0503 - acc: 0.9826\n",
            "Epoch 21/30\n",
            "781/781 [==============================] - 10s 12ms/step - loss: 0.0488 - acc: 0.9834\n",
            "Epoch 22/30\n",
            "781/781 [==============================] - 10s 12ms/step - loss: 0.0522 - acc: 0.9831\n",
            "Epoch 23/30\n",
            "781/781 [==============================] - 10s 12ms/step - loss: 0.0435 - acc: 0.9854\n",
            "Epoch 24/30\n",
            "781/781 [==============================] - 10s 12ms/step - loss: 0.0494 - acc: 0.9848\n",
            "Epoch 25/30\n",
            "781/781 [==============================] - 10s 12ms/step - loss: 0.0516 - acc: 0.9833\n",
            "Epoch 26/30\n",
            "781/781 [==============================] - 9s 12ms/step - loss: 0.0495 - acc: 0.9843\n",
            "Epoch 27/30\n",
            "781/781 [==============================] - 9s 12ms/step - loss: 0.0477 - acc: 0.9840\n",
            "Epoch 28/30\n",
            "781/781 [==============================] - 9s 12ms/step - loss: 0.0413 - acc: 0.9857\n",
            "Epoch 29/30\n",
            "781/781 [==============================] - 9s 12ms/step - loss: 0.0495 - acc: 0.9840\n",
            "Epoch 30/30\n",
            "781/781 [==============================] - 10s 12ms/step - loss: 0.0470 - acc: 0.9854\n",
            "Epoch 1/30\n",
            "781/781 [==============================] - 10s 13ms/step - loss: 0.0434 - acc: 0.9858\n",
            "Epoch 2/30\n",
            "781/781 [==============================] - 9s 12ms/step - loss: 0.0463 - acc: 0.9857\n",
            "Epoch 3/30\n",
            "781/781 [==============================] - 9s 12ms/step - loss: 0.0418 - acc: 0.9868\n",
            "Epoch 4/30\n",
            "781/781 [==============================] - 9s 12ms/step - loss: 0.0471 - acc: 0.9849\n",
            "Epoch 5/30\n",
            "781/781 [==============================] - 9s 12ms/step - loss: 0.0465 - acc: 0.9854\n",
            "Epoch 6/30\n",
            "781/781 [==============================] - 9s 12ms/step - loss: 0.0424 - acc: 0.9864\n",
            "Epoch 7/30\n",
            "781/781 [==============================] - 9s 12ms/step - loss: 0.0415 - acc: 0.9876\n",
            "Epoch 8/30\n",
            "781/781 [==============================] - 9s 12ms/step - loss: 0.0429 - acc: 0.9871\n",
            "Epoch 9/30\n",
            "781/781 [==============================] - 9s 12ms/step - loss: 0.0426 - acc: 0.9864\n",
            "Epoch 10/30\n",
            "781/781 [==============================] - 9s 12ms/step - loss: 0.0458 - acc: 0.9857\n",
            "Epoch 11/30\n",
            "781/781 [==============================] - 9s 12ms/step - loss: 0.0407 - acc: 0.9875\n",
            "Epoch 12/30\n",
            "781/781 [==============================] - 9s 12ms/step - loss: 0.0484 - acc: 0.9853\n",
            "Epoch 13/30\n",
            "781/781 [==============================] - 9s 12ms/step - loss: 0.0408 - acc: 0.9874\n",
            "Epoch 14/30\n",
            "781/781 [==============================] - 9s 12ms/step - loss: 0.0475 - acc: 0.9860\n",
            "Epoch 15/30\n",
            "781/781 [==============================] - 9s 12ms/step - loss: 0.0404 - acc: 0.9882\n",
            "Epoch 16/30\n",
            "781/781 [==============================] - 10s 12ms/step - loss: 0.0401 - acc: 0.9880\n",
            "Epoch 17/30\n",
            "781/781 [==============================] - 9s 12ms/step - loss: 0.0372 - acc: 0.9881\n",
            "Epoch 18/30\n",
            "781/781 [==============================] - 9s 12ms/step - loss: 0.0415 - acc: 0.9870\n",
            "Epoch 19/30\n",
            "781/781 [==============================] - 9s 12ms/step - loss: 0.0383 - acc: 0.9882\n",
            "Epoch 20/30\n",
            "781/781 [==============================] - 9s 12ms/step - loss: 0.0457 - acc: 0.9862\n",
            "Epoch 21/30\n",
            "781/781 [==============================] - 9s 12ms/step - loss: 0.0373 - acc: 0.9886\n",
            "Epoch 22/30\n",
            "781/781 [==============================] - 9s 12ms/step - loss: 0.0448 - acc: 0.9869\n",
            "Epoch 23/30\n",
            "781/781 [==============================] - 9s 12ms/step - loss: 0.0402 - acc: 0.9883\n",
            "Epoch 24/30\n",
            "781/781 [==============================] - 9s 12ms/step - loss: 0.0374 - acc: 0.9889\n",
            "Epoch 25/30\n",
            "781/781 [==============================] - 9s 12ms/step - loss: 0.0400 - acc: 0.9884\n",
            "Epoch 26/30\n",
            "781/781 [==============================] - 9s 12ms/step - loss: 0.0454 - acc: 0.9871\n",
            "Epoch 27/30\n",
            "781/781 [==============================] - 9s 12ms/step - loss: 0.0373 - acc: 0.9892\n",
            "Epoch 28/30\n",
            "781/781 [==============================] - 9s 12ms/step - loss: 0.0361 - acc: 0.9901\n",
            "Epoch 29/30\n",
            "781/781 [==============================] - 9s 12ms/step - loss: 0.0404 - acc: 0.9883\n",
            "Epoch 30/30\n",
            "781/781 [==============================] - 9s 12ms/step - loss: 0.0319 - acc: 0.9902\n",
            "Epoch 1/30\n",
            "781/781 [==============================] - 9s 12ms/step - loss: 0.0456 - acc: 0.9880\n",
            "Epoch 2/30\n",
            "781/781 [==============================] - 9s 12ms/step - loss: 0.0453 - acc: 0.9879\n",
            "Epoch 3/30\n",
            "781/781 [==============================] - 10s 12ms/step - loss: 0.0440 - acc: 0.9876\n",
            "Epoch 4/30\n",
            "781/781 [==============================] - 10s 12ms/step - loss: 0.0344 - acc: 0.9895\n",
            "Epoch 5/30\n",
            "781/781 [==============================] - 9s 12ms/step - loss: 0.0369 - acc: 0.9897\n",
            "Epoch 6/30\n",
            "781/781 [==============================] - 10s 12ms/step - loss: 0.0356 - acc: 0.9893\n",
            "Epoch 7/30\n",
            "781/781 [==============================] - 9s 12ms/step - loss: 0.0378 - acc: 0.9897\n",
            "Epoch 8/30\n",
            "781/781 [==============================] - 10s 12ms/step - loss: 0.0382 - acc: 0.9897\n",
            "Epoch 9/30\n",
            "781/781 [==============================] - 10s 12ms/step - loss: 0.0357 - acc: 0.9894\n",
            "Epoch 10/30\n",
            "781/781 [==============================] - 9s 12ms/step - loss: 0.0367 - acc: 0.9897\n",
            "Epoch 11/30\n",
            "781/781 [==============================] - 9s 12ms/step - loss: 0.0363 - acc: 0.9901\n",
            "Epoch 12/30\n",
            "781/781 [==============================] - 10s 12ms/step - loss: 0.0365 - acc: 0.9897\n",
            "Epoch 13/30\n",
            "781/781 [==============================] - 10s 13ms/step - loss: 0.0402 - acc: 0.9885\n",
            "Epoch 14/30\n",
            "781/781 [==============================] - 10s 13ms/step - loss: 0.0345 - acc: 0.9906\n",
            "Epoch 15/30\n",
            "781/781 [==============================] - 10s 13ms/step - loss: 0.0384 - acc: 0.9895\n",
            "Epoch 16/30\n",
            "781/781 [==============================] - 10s 13ms/step - loss: 0.0339 - acc: 0.9909\n",
            "Epoch 17/30\n",
            "781/781 [==============================] - 10s 13ms/step - loss: 0.0353 - acc: 0.9901\n",
            "Epoch 18/30\n",
            "781/781 [==============================] - 11s 14ms/step - loss: 0.0409 - acc: 0.9895\n",
            "Epoch 19/30\n",
            "781/781 [==============================] - 11s 14ms/step - loss: 0.0393 - acc: 0.9891\n",
            "Epoch 20/30\n",
            "781/781 [==============================] - 11s 14ms/step - loss: 0.0310 - acc: 0.9912\n",
            "Epoch 21/30\n",
            "781/781 [==============================] - 11s 14ms/step - loss: 0.0338 - acc: 0.9909\n",
            "Epoch 22/30\n",
            "781/781 [==============================] - 11s 14ms/step - loss: 0.0445 - acc: 0.9883\n",
            "Epoch 23/30\n",
            "781/781 [==============================] - 11s 14ms/step - loss: 0.0352 - acc: 0.9902\n",
            "Epoch 24/30\n",
            "781/781 [==============================] - 11s 14ms/step - loss: 0.0345 - acc: 0.9904\n",
            "Epoch 25/30\n",
            "781/781 [==============================] - 11s 14ms/step - loss: 0.0354 - acc: 0.9901\n",
            "Epoch 26/30\n",
            "781/781 [==============================] - 11s 14ms/step - loss: 0.0380 - acc: 0.9900\n",
            "Epoch 27/30\n",
            "781/781 [==============================] - 11s 14ms/step - loss: 0.0422 - acc: 0.9894\n",
            "Epoch 28/30\n",
            "781/781 [==============================] - 11s 13ms/step - loss: 0.0341 - acc: 0.9910\n",
            "Epoch 29/30\n",
            "781/781 [==============================] - 10s 13ms/step - loss: 0.0347 - acc: 0.9909\n",
            "Epoch 30/30\n",
            "781/781 [==============================] - 10s 13ms/step - loss: 0.0328 - acc: 0.9911\n",
            "Epoch 1/30\n",
            "781/781 [==============================] - 10s 13ms/step - loss: 0.0382 - acc: 0.9910\n",
            "Epoch 2/30\n",
            "781/781 [==============================] - 10s 13ms/step - loss: 0.0366 - acc: 0.9898\n",
            "Epoch 3/30\n",
            "781/781 [==============================] - 10s 13ms/step - loss: 0.0317 - acc: 0.9912\n",
            "Epoch 4/30\n",
            "781/781 [==============================] - 11s 14ms/step - loss: 0.0348 - acc: 0.9916\n",
            "Epoch 5/30\n",
            "781/781 [==============================] - 11s 14ms/step - loss: 0.0350 - acc: 0.9911\n",
            "Epoch 6/30\n",
            "781/781 [==============================] - 11s 14ms/step - loss: 0.0369 - acc: 0.9911\n",
            "Epoch 7/30\n",
            "781/781 [==============================] - 11s 14ms/step - loss: 0.0308 - acc: 0.9920\n",
            "Epoch 8/30\n",
            "781/781 [==============================] - 11s 13ms/step - loss: 0.0457 - acc: 0.9886\n",
            "Epoch 9/30\n",
            "781/781 [==============================] - 10s 13ms/step - loss: 0.0405 - acc: 0.9897\n",
            "Epoch 10/30\n",
            "781/781 [==============================] - 10s 13ms/step - loss: 0.0366 - acc: 0.9906\n",
            "Epoch 11/30\n",
            "781/781 [==============================] - 10s 13ms/step - loss: 0.0405 - acc: 0.9898\n",
            "Epoch 12/30\n",
            "781/781 [==============================] - 10s 13ms/step - loss: 0.0346 - acc: 0.9911\n",
            "Epoch 13/30\n",
            "781/781 [==============================] - 10s 13ms/step - loss: 0.0408 - acc: 0.9901\n",
            "Epoch 14/30\n",
            "781/781 [==============================] - 10s 13ms/step - loss: 0.0355 - acc: 0.9908\n",
            "Epoch 15/30\n",
            "781/781 [==============================] - 10s 13ms/step - loss: 0.0346 - acc: 0.9907\n",
            "Epoch 16/30\n",
            "781/781 [==============================] - 11s 14ms/step - loss: 0.0335 - acc: 0.9908\n",
            "Epoch 17/30\n",
            "781/781 [==============================] - 11s 14ms/step - loss: 0.0333 - acc: 0.9915\n",
            "Epoch 18/30\n",
            "781/781 [==============================] - 10s 13ms/step - loss: 0.0341 - acc: 0.9912\n",
            "Epoch 19/30\n",
            "781/781 [==============================] - 10s 13ms/step - loss: 0.0379 - acc: 0.9906\n",
            "Epoch 20/30\n",
            "781/781 [==============================] - 10s 13ms/step - loss: 0.0490 - acc: 0.9891\n",
            "Epoch 21/30\n",
            "781/781 [==============================] - 10s 13ms/step - loss: 0.0359 - acc: 0.9915\n",
            "Epoch 22/30\n",
            "781/781 [==============================] - 10s 13ms/step - loss: 0.0364 - acc: 0.9913\n",
            "Epoch 23/30\n",
            "781/781 [==============================] - 10s 13ms/step - loss: 0.0369 - acc: 0.9911\n",
            "Epoch 24/30\n",
            "781/781 [==============================] - 10s 13ms/step - loss: 0.0371 - acc: 0.9903\n",
            "Epoch 25/30\n",
            "781/781 [==============================] - 10s 13ms/step - loss: 0.0327 - acc: 0.9916\n",
            "Epoch 26/30\n",
            "781/781 [==============================] - 10s 13ms/step - loss: 0.0356 - acc: 0.9907\n",
            "Epoch 27/30\n",
            "781/781 [==============================] - 10s 13ms/step - loss: 0.0353 - acc: 0.9914\n",
            "Epoch 28/30\n",
            "781/781 [==============================] - 10s 13ms/step - loss: 0.0395 - acc: 0.9906\n",
            "Epoch 29/30\n",
            "781/781 [==============================] - 10s 13ms/step - loss: 0.0281 - acc: 0.9926\n",
            "Epoch 30/30\n",
            "781/781 [==============================] - 10s 13ms/step - loss: 0.0432 - acc: 0.9900\n",
            "Epoch 1/30\n",
            "781/781 [==============================] - 10s 13ms/step - loss: 0.0398 - acc: 0.9901\n",
            "Epoch 2/30\n",
            "781/781 [==============================] - 10s 13ms/step - loss: 0.0368 - acc: 0.9913\n",
            "Epoch 3/30\n",
            "781/781 [==============================] - 10s 13ms/step - loss: 0.0398 - acc: 0.9910\n",
            "Epoch 4/30\n",
            "781/781 [==============================] - 10s 13ms/step - loss: 0.0329 - acc: 0.9917\n",
            "Epoch 5/30\n",
            "781/781 [==============================] - 10s 13ms/step - loss: 0.0362 - acc: 0.9915\n",
            "Epoch 6/30\n",
            "781/781 [==============================] - 10s 13ms/step - loss: 0.0363 - acc: 0.9916\n",
            "Epoch 7/30\n",
            "781/781 [==============================] - 10s 13ms/step - loss: 0.0355 - acc: 0.9916\n",
            "Epoch 8/30\n",
            "781/781 [==============================] - 10s 13ms/step - loss: 0.0360 - acc: 0.9915\n",
            "Epoch 9/30\n",
            "781/781 [==============================] - 10s 13ms/step - loss: 0.0362 - acc: 0.9912\n",
            "Epoch 10/30\n",
            "781/781 [==============================] - 10s 13ms/step - loss: 0.0378 - acc: 0.9910\n",
            "Epoch 11/30\n",
            "781/781 [==============================] - 10s 13ms/step - loss: 0.0368 - acc: 0.9917\n",
            "Epoch 12/30\n",
            "781/781 [==============================] - 10s 13ms/step - loss: 0.0362 - acc: 0.9917\n",
            "Epoch 13/30\n",
            "781/781 [==============================] - 10s 13ms/step - loss: 0.0391 - acc: 0.9908\n",
            "Epoch 14/30\n",
            "781/781 [==============================] - 10s 13ms/step - loss: 0.0341 - acc: 0.9919\n",
            "Epoch 15/30\n",
            "781/781 [==============================] - 10s 13ms/step - loss: 0.0310 - acc: 0.9924\n",
            "Epoch 16/30\n",
            "781/781 [==============================] - 10s 13ms/step - loss: 0.0330 - acc: 0.9921\n",
            "Epoch 17/30\n",
            "781/781 [==============================] - 11s 14ms/step - loss: 0.0380 - acc: 0.9916\n",
            "Epoch 18/30\n",
            "781/781 [==============================] - 10s 13ms/step - loss: 0.0382 - acc: 0.9911\n",
            "Epoch 19/30\n",
            "781/781 [==============================] - 10s 13ms/step - loss: 0.0315 - acc: 0.9920\n",
            "Epoch 20/30\n",
            "781/781 [==============================] - 10s 13ms/step - loss: 0.0384 - acc: 0.9921\n",
            "Epoch 21/30\n",
            "781/781 [==============================] - 11s 13ms/step - loss: 0.0290 - acc: 0.9931\n",
            "Epoch 22/30\n",
            "781/781 [==============================] - 10s 13ms/step - loss: 0.0378 - acc: 0.9916\n",
            "Epoch 23/30\n",
            "781/781 [==============================] - 10s 13ms/step - loss: 0.0368 - acc: 0.9912\n",
            "Epoch 24/30\n",
            "781/781 [==============================] - 10s 13ms/step - loss: 0.0361 - acc: 0.9919\n",
            "Epoch 25/30\n",
            "781/781 [==============================] - 10s 13ms/step - loss: 0.0336 - acc: 0.9918\n",
            "Epoch 26/30\n",
            "781/781 [==============================] - 10s 13ms/step - loss: 0.0388 - acc: 0.9914\n",
            "Epoch 27/30\n",
            "781/781 [==============================] - 10s 13ms/step - loss: 0.0354 - acc: 0.9916\n",
            "Epoch 28/30\n",
            "781/781 [==============================] - 10s 13ms/step - loss: 0.0344 - acc: 0.9924\n",
            "Epoch 29/30\n",
            "781/781 [==============================] - 10s 13ms/step - loss: 0.0410 - acc: 0.9913\n",
            "Epoch 30/30\n",
            "781/781 [==============================] - 10s 13ms/step - loss: 0.0434 - acc: 0.9901\n"
          ],
          "name": "stdout"
        }
      ]
    },
    {
      "cell_type": "code",
      "metadata": {
        "id": "DpFnHvTEac-N",
        "colab_type": "code",
        "colab": {}
      },
      "source": [
        ""
      ],
      "execution_count": 0,
      "outputs": []
    }
  ]
}