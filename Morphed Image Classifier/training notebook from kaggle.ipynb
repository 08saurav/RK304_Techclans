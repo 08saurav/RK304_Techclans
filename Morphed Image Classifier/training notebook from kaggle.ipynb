{
 "cells": [
  {
   "cell_type": "code",
   "execution_count": 1,
   "metadata": {
    "_cell_guid": "b1076dfc-b9ad-4769-8c92-a6c4dae69d19",
    "_uuid": "8f2839f25d086af736a60e9eeb907d3b93b6e0e5"
   },
   "outputs": [],
   "source": [
    "from keras.models import Sequential\n",
    "from keras.layers import Dense, Dropout, Flatten, Conv2D, MaxPool2D,BatchNormalization\n",
    "from keras.optimizers import RMSprop\n",
    "from keras.preprocessing.image import ImageDataGenerator\n",
    "from keras.callbacks import ReduceLROnPlateau, EarlyStopping\n",
    "from keras.optimizers import Adam\n",
    "import numpy as np"
   ]
  },
  {
   "cell_type": "code",
   "execution_count": 2,
   "metadata": {
    "_cell_guid": "79c7e3d0-c299-4dcb-8224-4455121ee9b0",
    "_uuid": "d629ff2d2480ee46fbb7e2d37f6b5fab8052498a"
   },
   "outputs": [
    {
     "name": "stdout",
     "output_type": "stream",
     "text": [
      "Model: \"sequential\"\n",
      "_________________________________________________________________\n",
      "Layer (type)                 Output Shape              Param #   \n",
      "=================================================================\n",
      "conv2d (Conv2D)              (None, 126, 126, 32)      896       \n",
      "_________________________________________________________________\n",
      "batch_normalization (BatchNo (None, 126, 126, 32)      128       \n",
      "_________________________________________________________________\n",
      "conv2d_1 (Conv2D)            (None, 122, 122, 64)      51264     \n",
      "_________________________________________________________________\n",
      "batch_normalization_1 (Batch (None, 122, 122, 64)      256       \n",
      "_________________________________________________________________\n",
      "max_pooling2d (MaxPooling2D) (None, 61, 61, 64)        0         \n",
      "_________________________________________________________________\n",
      "flatten (Flatten)            (None, 238144)            0         \n",
      "_________________________________________________________________\n",
      "dense (Dense)                (None, 256)               60965120  \n",
      "_________________________________________________________________\n",
      "dense_1 (Dense)              (None, 2)                 514       \n",
      "=================================================================\n",
      "Total params: 61,018,178\n",
      "Trainable params: 61,017,986\n",
      "Non-trainable params: 192\n",
      "_________________________________________________________________\n",
      "None\n"
     ]
    }
   ],
   "source": [
    "model = Sequential()\n",
    "\n",
    "\n",
    "model.add(Conv2D(filters = 32, kernel_size = (3,3),padding = 'valid',activation ='relu', input_shape = (128,128,3)))\n",
    "model.add(BatchNormalization())\n",
    "model.add(Conv2D(filters = 64, kernel_size = (5,5),padding = 'valid',activation ='relu'))\n",
    "model.add(BatchNormalization())\n",
    "model.add(MaxPool2D(pool_size=(2,2)))\n",
    "# model.add(Dropout(0.5))\n",
    "model.add(Flatten())\n",
    "# model.add(Dense(128, activation = \"relu\"))\n",
    "# model.add(Dropout(0.2))\n",
    "model.add(Dense(256, activation = \"relu\"))\n",
    "# model.add(Dropout(0.5))\n",
    "model.add(Dense(2, activation = \"softmax\"))\n",
    "print(model.summary())\n",
    "\n",
    "optimizer = Adam()\n",
    "model.compile(optimizer = optimizer , loss = \"categorical_crossentropy\", metrics=[\"accuracy\"])\n"
   ]
  },
  {
   "cell_type": "code",
   "execution_count": 3,
   "metadata": {},
   "outputs": [],
   "source": [
    "X=np.load(\"../input/morphed/X.npy\")\n",
    "Y=np.load(\"../input/morphed/Y.npy\")\n",
    "Xval=np.load(\"../input/morphed/Xval.npy\")\n",
    "Yval=np.load(\"../input/morphed/Yval.npy\")"
   ]
  },
  {
   "cell_type": "code",
   "execution_count": 4,
   "metadata": {},
   "outputs": [
    {
     "name": "stdout",
     "output_type": "stream",
     "text": [
      "Epoch 1/30\n",
      "395/395 [==============================] - 14s 35ms/step - loss: 11.4808 - accuracy: 0.7383 - val_loss: 66.0523 - val_accuracy: 0.5601\n",
      "Epoch 2/30\n",
      "395/395 [==============================] - 13s 34ms/step - loss: 0.3698 - accuracy: 0.8504 - val_loss: 1.3463 - val_accuracy: 0.6313\n",
      "Epoch 3/30\n",
      "395/395 [==============================] - 13s 34ms/step - loss: 0.3820 - accuracy: 0.8770 - val_loss: 1.3894 - val_accuracy: 0.6519\n",
      "Epoch 4/30\n",
      "395/395 [==============================] - 14s 35ms/step - loss: 0.2352 - accuracy: 0.9000 - val_loss: 2.0705 - val_accuracy: 0.6661\n",
      "Epoch 5/30\n",
      "395/395 [==============================] - 14s 35ms/step - loss: 0.1923 - accuracy: 0.9141 - val_loss: 0.9267 - val_accuracy: 0.7089\n",
      "Epoch 6/30\n",
      "395/395 [==============================] - 13s 34ms/step - loss: 0.1798 - accuracy: 0.9187 - val_loss: 3.4130 - val_accuracy: 0.6693\n",
      "Epoch 7/30\n",
      "395/395 [==============================] - 13s 34ms/step - loss: 0.1683 - accuracy: 0.9215 - val_loss: 2.3983 - val_accuracy: 0.6582\n",
      "Epoch 8/30\n",
      "395/395 [==============================] - 14s 35ms/step - loss: 0.1420 - accuracy: 0.9319 - val_loss: 2.5603 - val_accuracy: 0.6994\n",
      "Epoch 9/30\n",
      "395/395 [==============================] - 14s 35ms/step - loss: 2.7309 - accuracy: 0.7577 - val_loss: 0.5798 - val_accuracy: 0.6725\n",
      "Epoch 10/30\n",
      "395/395 [==============================] - 13s 34ms/step - loss: 0.3873 - accuracy: 0.8482 - val_loss: 0.9783 - val_accuracy: 0.6994\n",
      "Epoch 11/30\n",
      "395/395 [==============================] - 13s 34ms/step - loss: 0.2323 - accuracy: 0.8943 - val_loss: 1.2201 - val_accuracy: 0.7120\n",
      "Epoch 12/30\n",
      "395/395 [==============================] - 13s 34ms/step - loss: 0.1947 - accuracy: 0.9089 - val_loss: 1.9654 - val_accuracy: 0.7136\n",
      "Epoch 13/30\n",
      "395/395 [==============================] - 14s 35ms/step - loss: 0.1599 - accuracy: 0.9257 - val_loss: 1.7532 - val_accuracy: 0.7041\n",
      "Epoch 14/30\n",
      "395/395 [==============================] - 14s 34ms/step - loss: 0.1418 - accuracy: 0.9347 - val_loss: 2.2919 - val_accuracy: 0.6804\n",
      "Epoch 15/30\n",
      "395/395 [==============================] - 13s 34ms/step - loss: 0.1348 - accuracy: 0.9395 - val_loss: 2.5497 - val_accuracy: 0.7199\n",
      "Epoch 16/30\n",
      "395/395 [==============================] - 13s 34ms/step - loss: 0.1295 - accuracy: 0.9442 - val_loss: 2.6614 - val_accuracy: 0.7484\n",
      "Epoch 17/30\n",
      "395/395 [==============================] - 14s 34ms/step - loss: 0.1350 - accuracy: 0.9369 - val_loss: 1.1048 - val_accuracy: 0.7057\n",
      "Epoch 18/30\n",
      "395/395 [==============================] - 14s 34ms/step - loss: 0.1080 - accuracy: 0.9483 - val_loss: 2.4268 - val_accuracy: 0.7658\n",
      "Epoch 19/30\n",
      "395/395 [==============================] - 13s 34ms/step - loss: 0.1063 - accuracy: 0.9486 - val_loss: 2.1464 - val_accuracy: 0.7658\n",
      "Epoch 20/30\n",
      "395/395 [==============================] - 14s 34ms/step - loss: 0.0948 - accuracy: 0.9530 - val_loss: 2.1085 - val_accuracy: 0.7816\n",
      "Epoch 21/30\n",
      "395/395 [==============================] - 13s 34ms/step - loss: 0.0911 - accuracy: 0.9547 - val_loss: 2.9913 - val_accuracy: 0.7816\n",
      "Epoch 22/30\n",
      "395/395 [==============================] - 14s 35ms/step - loss: 0.0855 - accuracy: 0.9581 - val_loss: 3.2227 - val_accuracy: 0.7737\n",
      "Epoch 23/30\n",
      "395/395 [==============================] - 13s 34ms/step - loss: 0.1172 - accuracy: 0.9474 - val_loss: 3.0268 - val_accuracy: 0.7595\n",
      "Epoch 24/30\n",
      "395/395 [==============================] - 13s 34ms/step - loss: 0.1035 - accuracy: 0.9516 - val_loss: 3.4341 - val_accuracy: 0.7547\n",
      "Epoch 25/30\n",
      "227/395 [================>.............] - ETA: 5s - loss: 0.0875 - accuracy: 0.9588"
     ]
    }
   ],
   "source": [
    "model.fit(X,Y,epochs=30,validation_data=(Xval,Yval),batch_size=32,verbose=1)"
   ]
  },
  {
   "cell_type": "code",
   "execution_count": 5,
   "metadata": {},
   "outputs": [],
   "source": [
    "model.save(\"version1.1\") # 1.1 \n"
   ]
  },
  {
   "cell_type": "code",
   "execution_count": 6,
   "metadata": {},
   "outputs": [],
   "source": [
    "model.save_weights(\"version1_1.h5\")"
   ]
  },
  {
   "cell_type": "code",
   "execution_count": null,
   "metadata": {},
   "outputs": [],
   "source": []
  }
 ],
 "metadata": {
  "kernelspec": {
   "display_name": "Python 3",
   "language": "python",
   "name": "python3"
  },
  "language_info": {
   "codemirror_mode": {
    "name": "ipython",
    "version": 3
   },
   "file_extension": ".py",
   "mimetype": "text/x-python",
   "name": "python",
   "nbconvert_exporter": "python",
   "pygments_lexer": "ipython3",
   "version": "3.7.6"
  }
 },
 "nbformat": 4,
 "nbformat_minor": 4
}
